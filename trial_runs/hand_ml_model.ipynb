{
 "cells": [
  {
   "cell_type": "code",
   "execution_count": null,
   "metadata": {},
   "outputs": [],
   "source": [
    "import pandas as pd \n",
    "from sklearn.model_selection import train_test_split\n",
    "import numpy as np\n",
    "import torch\n",
    "import torch.nn as nn\n",
    "import torch.nn.functional as F\n",
    "from torch.utils.data import Dataset\n",
    "from sklearn.preprocessing import LabelEncoder\n",
    "\n"
   ]
  },
  {
   "cell_type": "code",
   "execution_count": 66,
   "metadata": {},
   "outputs": [],
   "source": [
    "data_c = pd.read_csv(\"output_c.txt\", header=None)\n",
    "data_h = pd.read_csv(\"output_h.txt\", header=None)\n",
    "data_2 = pd.read_csv(\"output_2.txt\", header=None)\n",
    "\n",
    "data = pd.concat([data_c, data_h, data_2], ignore_index=True)\n",
    "\n",
    "data.to_csv(\"concatenated_data.txt\", index=False, header=False)\n",
    "\n",
    "\n",
    "features = data.iloc[:, :-1].values\n",
    "data.iloc[:, -1] = data.iloc[:, -1].astype(str)\n",
    "labels = data.iloc[:, -1].values\n",
    "\n",
    "\n",
    "le = LabelEncoder()\n",
    "labels = le.fit_transform(labels)\n",
    "\n",
    "X_train, X_test, y_train, y_test = train_test_split(features, labels, test_size=0.2, random_state=42)"
   ]
  },
  {
   "cell_type": "code",
   "execution_count": 47,
   "metadata": {},
   "outputs": [],
   "source": [
    "\n",
    "class GestureCNN(nn.Module):\n",
    "    def __init__(self):\n",
    "        super(GestureCNN, self).__init__()\n",
    "        self.conv1 = nn.Conv2d(1, 8, kernel_size=3, padding=1)\n",
    "        self.conv2 = nn.Conv2d(8, 16, kernel_size=3, padding=1)\n",
    "        self.fc1 = nn.Linear(16 * 6 * 6, 64)\n",
    "        self.fc2 = nn.Linear(64, 3)  # 3 output classes: c, h, 2\n",
    "\n",
    "    def forward(self, x):\n",
    "        x = F.relu(self.conv1(x))   # [B, 8, 6, 6]\n",
    "        x = F.relu(self.conv2(x))   # [B, 16, 6, 6]\n",
    "        x = x.view(x.size(0), -1)   # flatten\n",
    "        x = F.relu(self.fc1(x))\n",
    "        return self.fc2(x)"
   ]
  },
  {
   "cell_type": "code",
   "execution_count": 48,
   "metadata": {},
   "outputs": [],
   "source": [
    "\n",
    "class GestureDataset(Dataset):\n",
    "    def __init__(self, X, y):\n",
    "        self.X = torch.tensor(X, dtype=torch.float32).reshape(-1, 1, 6, 6)\n",
    "        self.y = torch.tensor(y, dtype=torch.long)\n",
    "\n",
    "    def __len__(self):\n",
    "        return len(self.y)\n",
    "\n",
    "    def __getitem__(self, idx):\n",
    "        return self.X[idx], self.y[idx]"
   ]
  },
  {
   "cell_type": "code",
   "execution_count": 49,
   "metadata": {},
   "outputs": [],
   "source": [
    "from torch.utils.data import DataLoader\n",
    "\n",
    "train_dataset = GestureDataset(X_train, y_train)\n",
    "test_dataset = GestureDataset(X_test, y_test)\n",
    "\n",
    "train_loader = DataLoader(train_dataset, batch_size=32, shuffle=True)\n",
    "test_loader = DataLoader(test_dataset, batch_size=32)\n"
   ]
  },
  {
   "cell_type": "code",
   "execution_count": 50,
   "metadata": {},
   "outputs": [
    {
     "name": "stdout",
     "output_type": "stream",
     "text": [
      "Epoch 1, Loss: 42.5348\n",
      "Epoch 2, Loss: 8.5037\n",
      "Epoch 3, Loss: 4.0152\n",
      "Epoch 4, Loss: 1.0746\n",
      "Epoch 5, Loss: 0.3632\n",
      "Epoch 6, Loss: 0.4222\n",
      "Epoch 7, Loss: 0.1190\n",
      "Epoch 8, Loss: 0.1612\n",
      "Epoch 9, Loss: 0.0862\n",
      "Epoch 10, Loss: 0.0584\n",
      "Epoch 11, Loss: 0.0529\n",
      "Epoch 12, Loss: 0.0351\n",
      "Epoch 13, Loss: 0.0301\n",
      "Epoch 14, Loss: 0.0243\n",
      "Epoch 15, Loss: 0.0193\n",
      "Epoch 16, Loss: 0.0126\n",
      "Epoch 17, Loss: 0.0086\n",
      "Epoch 18, Loss: 0.0096\n",
      "Epoch 19, Loss: 0.0047\n",
      "Epoch 20, Loss: 0.0030\n"
     ]
    }
   ],
   "source": [
    "device = torch.device(\"cuda\" if torch.cuda.is_available() else \"cpu\")\n",
    "model = GestureCNN().to(device)\n",
    "optimizer = torch.optim.Adam(model.parameters(), lr=0.001)\n",
    "loss_fn = nn.CrossEntropyLoss()\n",
    "\n",
    "# Training loop\n",
    "for epoch in range(20):\n",
    "    model.train()\n",
    "    total_loss = 0\n",
    "    for batch_x, batch_y in train_loader:\n",
    "        batch_x, batch_y = batch_x.to(device), batch_y.to(device)\n",
    "\n",
    "        optimizer.zero_grad()\n",
    "        out = model(batch_x)\n",
    "        loss = loss_fn(out, batch_y)\n",
    "        loss.backward()\n",
    "        optimizer.step()\n",
    "\n",
    "        total_loss += loss.item()\n",
    "    print(f\"Epoch {epoch+1}, Loss: {total_loss:.4f}\")\n"
   ]
  },
  {
   "cell_type": "code",
   "execution_count": 51,
   "metadata": {},
   "outputs": [
    {
     "name": "stdout",
     "output_type": "stream",
     "text": [
      "Test Accuracy: 100.00%\n"
     ]
    }
   ],
   "source": [
    "model.eval()\n",
    "correct = total = 0\n",
    "with torch.no_grad():\n",
    "    for batch_x, batch_y in test_loader:\n",
    "        batch_x, batch_y = batch_x.to(device), batch_y.to(device)\n",
    "        pred = model(batch_x).argmax(dim=1)\n",
    "        correct += (pred == batch_y).sum().item()\n",
    "        total += batch_y.size(0)\n",
    "\n",
    "print(f\"Test Accuracy: {correct / total:.2%}\")\n"
   ]
  },
  {
   "cell_type": "code",
   "execution_count": 52,
   "metadata": {},
   "outputs": [],
   "source": [
    "def predict(image_array):\n",
    "    image_tensor = torch.tensor(image_array, dtype=torch.float32).reshape(1, 1, 6, 6).to(device)\n",
    "    model.eval()\n",
    "    with torch.no_grad():\n",
    "        out = model(image_tensor)\n",
    "        pred_class = out.argmax(dim=1).item()\n",
    "    return le.inverse_transform([pred_class])[0]\n"
   ]
  },
  {
   "cell_type": "code",
   "execution_count": 53,
   "metadata": {},
   "outputs": [],
   "source": [
    "input_vector = np.array([254, 0, 254, 76, 254, 254,\n",
    "                         252, 110, 254, 0, 254, 254,\n",
    "                         254, 37, 54, 1, 254, 154,\n",
    "                         10, 0, 0, 111, 166, 254,\n",
    "                         83, 0, 254, 0, 0, 254,\n",
    "                         147, 172, 4, 0, 254, 251])\n"
   ]
  },
  {
   "cell_type": "code",
   "execution_count": 54,
   "metadata": {},
   "outputs": [
    {
     "data": {
      "text/plain": [
       "'2'"
      ]
     },
     "execution_count": 54,
     "metadata": {},
     "output_type": "execute_result"
    }
   ],
   "source": [
    "predict(input_vector)"
   ]
  },
  {
   "cell_type": "code",
   "execution_count": 64,
   "metadata": {},
   "outputs": [
    {
     "data": {
      "text/plain": [
       "'c'"
      ]
     },
     "execution_count": 64,
     "metadata": {},
     "output_type": "execute_result"
    }
   ],
   "source": [
    "input_2 = np.array([838, 842, 842, 710, 516, 365,\n",
    " 831, 842, 842, 805, 314, 333,\n",
    " 559, 567, 640, 631, 617, 357,\n",
    " 380, 312, 343, 386, 382, 387,\n",
    " 412, 477, 402, 602, 589, 326,\n",
    " 822, 842, 842, 641, 558, 340]\n",
    ")\n",
    "\n",
    "predict(input_2)"
   ]
  }
 ],
 "metadata": {
  "kernelspec": {
   "display_name": "venv",
   "language": "python",
   "name": "python3"
  },
  "language_info": {
   "codemirror_mode": {
    "name": "ipython",
    "version": 3
   },
   "file_extension": ".py",
   "mimetype": "text/x-python",
   "name": "python",
   "nbconvert_exporter": "python",
   "pygments_lexer": "ipython3",
   "version": "3.13.2"
  }
 },
 "nbformat": 4,
 "nbformat_minor": 2
}
