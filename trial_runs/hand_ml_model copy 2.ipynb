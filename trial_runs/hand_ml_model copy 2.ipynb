{
 "cells": [
  {
   "cell_type": "code",
   "execution_count": 13,
   "metadata": {},
   "outputs": [],
   "source": [
    "import pandas as pd \n",
    "from sklearn.model_selection import train_test_split\n",
    "import numpy as np\n",
    "import torch\n",
    "import torch.nn as nn\n",
    "import torch.nn.functional as F\n",
    "from torch.utils.data import Dataset\n",
    "from sklearn.preprocessing import LabelEncoder\n",
    "\n"
   ]
  },
  {
   "cell_type": "code",
   "execution_count": 14,
   "metadata": {},
   "outputs": [],
   "source": [
    "data = pd.read_csv(\"handgesture.txt\", header=None)\n",
    "data.to_csv(\"handgesture_copy.txt\", index=False, header=False)\n",
    "\n",
    "\n",
    "features = data.iloc[:, :-1].values\n",
    "data.iloc[:, -1] = data.iloc[:, -1].astype(str)\n",
    "labels = data.iloc[:, -1].values\n",
    "\n",
    "\n",
    "le = LabelEncoder()\n",
    "labels = le.fit_transform(labels)\n",
    "\n",
    "X_train, X_test, y_train, y_test = train_test_split(features, labels, test_size=0.2, random_state=42)"
   ]
  },
  {
   "cell_type": "code",
   "execution_count": 15,
   "metadata": {},
   "outputs": [],
   "source": [
    "\n",
    "class GestureCNN(nn.Module):\n",
    "    def __init__(self):\n",
    "        super(GestureCNN, self).__init__()\n",
    "        self.conv1 = nn.Conv2d(1, 8, kernel_size=3, padding=1)\n",
    "        self.conv2 = nn.Conv2d(8, 16, kernel_size=3, padding=1)\n",
    "        self.fc1 = nn.Linear(16 * 6 * 6, 64)\n",
    "        self.fc2 = nn.Linear(64, 3)  # 3 output classes: c, h, 2\n",
    "\n",
    "    def forward(self, x):\n",
    "        x = F.relu(self.conv1(x))   # [B, 8, 6, 6]\n",
    "        x = F.relu(self.conv2(x))   # [B, 16, 6, 6]\n",
    "        x = x.view(x.size(0), -1)   # flatten\n",
    "        x = F.relu(self.fc1(x))\n",
    "        return self.fc2(x)"
   ]
  },
  {
   "cell_type": "code",
   "execution_count": 16,
   "metadata": {},
   "outputs": [],
   "source": [
    "\n",
    "class GestureDataset(Dataset):\n",
    "    def __init__(self, X, y):\n",
    "        self.X = torch.tensor(X, dtype=torch.float32).reshape(-1, 1, 6, 6)\n",
    "        self.y = torch.tensor(y, dtype=torch.long)\n",
    "\n",
    "    def __len__(self):\n",
    "        return len(self.y)\n",
    "\n",
    "    def __getitem__(self, idx):\n",
    "        return self.X[idx], self.y[idx]"
   ]
  },
  {
   "cell_type": "code",
   "execution_count": 17,
   "metadata": {},
   "outputs": [
    {
     "name": "stdout",
     "output_type": "stream",
     "text": [
      "<class 'numpy.ndarray'>\n",
      "float64\n",
      "(100, 36)\n",
      "[0.58940397 0.24006623 0.99503311 0.99834437 0.99834437 1.\n",
      " 0.5397351  1.         0.99668874 1.         0.99834437 1.\n",
      " 0.30463576 0.86754967 0.99834437 0.         0.99834437 1.\n",
      " 0.6589404  0.98675497 0.99834437 0.99834437 1.         1.\n",
      " 0.78476821 0.53642384 0.34271523 0.89238411 0.00496689 0.62582781\n",
      " 0.58443709 0.0115894  0.         0.17715232 0.99834437 1.        ]\n"
     ]
    }
   ],
   "source": [
    "print(type(X_train))\n",
    "print(X_train.dtype)\n",
    "print(X_train.shape)\n",
    "print(X_train[0])  # Inspect a single element\n"
   ]
  },
  {
   "cell_type": "code",
   "execution_count": 18,
   "metadata": {},
   "outputs": [],
   "source": [
    "from torch.utils.data import DataLoader\n",
    "\n",
    "train_dataset = GestureDataset(X_train, y_train)\n",
    "test_dataset = GestureDataset(X_test, y_test)\n",
    "\n",
    "train_loader = DataLoader(train_dataset, batch_size=32, shuffle=True)\n",
    "test_loader = DataLoader(test_dataset, batch_size=32)\n"
   ]
  },
  {
   "cell_type": "code",
   "execution_count": 19,
   "metadata": {},
   "outputs": [
    {
     "name": "stdout",
     "output_type": "stream",
     "text": [
      "Epoch 1, Loss: 4.3142\n",
      "Epoch 2, Loss: 4.2523\n",
      "Epoch 3, Loss: 4.0504\n",
      "Epoch 4, Loss: 4.1313\n",
      "Epoch 5, Loss: 4.0361\n",
      "Epoch 6, Loss: 3.7742\n",
      "Epoch 7, Loss: 3.5429\n",
      "Epoch 8, Loss: 3.5335\n",
      "Epoch 9, Loss: 3.0486\n",
      "Epoch 10, Loss: 2.9233\n",
      "Epoch 11, Loss: 2.7763\n",
      "Epoch 12, Loss: 2.5768\n",
      "Epoch 13, Loss: 2.4575\n",
      "Epoch 14, Loss: 2.3601\n",
      "Epoch 15, Loss: 2.1867\n",
      "Epoch 16, Loss: 2.1026\n",
      "Epoch 17, Loss: 1.9177\n",
      "Epoch 18, Loss: 2.0494\n",
      "Epoch 19, Loss: 1.6943\n",
      "Epoch 20, Loss: 2.1402\n"
     ]
    }
   ],
   "source": [
    "device = torch.device(\"cuda\" if torch.cuda.is_available() else \"cpu\")\n",
    "model = GestureCNN().to(device)\n",
    "optimizer = torch.optim.Adam(model.parameters(), lr=0.001)\n",
    "loss_fn = nn.CrossEntropyLoss()\n",
    "\n",
    "# Training loop\n",
    "for epoch in range(20):\n",
    "    model.train()\n",
    "    total_loss = 0\n",
    "    for batch_x, batch_y in train_loader:\n",
    "        batch_x, batch_y = batch_x.to(device), batch_y.to(device)\n",
    "\n",
    "        optimizer.zero_grad()\n",
    "        out = model(batch_x)\n",
    "        loss = loss_fn(out, batch_y)\n",
    "        loss.backward()\n",
    "        optimizer.step()\n",
    "\n",
    "        total_loss += loss.item()\n",
    "    print(f\"Epoch {epoch+1}, Loss: {total_loss:.4f}\")\n"
   ]
  },
  {
   "cell_type": "code",
   "execution_count": 20,
   "metadata": {},
   "outputs": [
    {
     "name": "stdout",
     "output_type": "stream",
     "text": [
      "Test Accuracy: 84.62%\n"
     ]
    }
   ],
   "source": [
    "model.eval()\n",
    "correct = total = 0\n",
    "with torch.no_grad():\n",
    "    for batch_x, batch_y in test_loader:\n",
    "        batch_x, batch_y = batch_x.to(device), batch_y.to(device)\n",
    "        pred = model(batch_x).argmax(dim=1)\n",
    "        correct += (pred == batch_y).sum().item()\n",
    "        total += batch_y.size(0)\n",
    "\n",
    "print(f\"Test Accuracy: {correct / total:.2%}\")\n"
   ]
  },
  {
   "cell_type": "code",
   "execution_count": 21,
   "metadata": {},
   "outputs": [],
   "source": [
    "def predict(image_array):\n",
    "    image_tensor = torch.tensor(image_array, dtype=torch.float32).reshape(1, 1, 6, 6).to(device)\n",
    "    model.eval()\n",
    "    with torch.no_grad():\n",
    "        out = model(image_tensor)\n",
    "        pred_class = out.argmax(dim=1).item()\n",
    "    return le.inverse_transform([pred_class])[0]\n"
   ]
  },
  {
   "cell_type": "code",
   "execution_count": 22,
   "metadata": {},
   "outputs": [],
   "source": [
    "# input_vector = np.array(\n",
    "\n",
    "# [1.0, 1.0, 0.7305785123966942, 1.0, 1.0, 1.0, 1.0, 1.0, 0.0, 1.0, 1.0, 0.456198347107438, 1.0, 1.0, 0.0, 1.0, 0.7900826446280992, 1.0, 1.0, 1.0, 1.0, 1.0, 1.0, 1.0, 1.0, 1.0, 0.0, 1.0, 1.0, 1.0, 1.0, 1.0, 0.0, 1.0, 1.0, 1.0]\n",
    "\n",
    "# )"
   ]
  },
  {
   "cell_type": "code",
   "execution_count": 74,
   "metadata": {},
   "outputs": [
    {
     "data": {
      "image/png": "[encoded data removed]",
      "text/plain": [
       "<Figure size 600x600 with 2 Axes>"
      ]
     },
     "metadata": {},
     "output_type": "display_data"
    },
    {
     "data": {
      "text/plain": [
       "' 2'"
      ]
     },
     "execution_count": 74,
     "metadata": {},
     "output_type": "execute_result"
    }
   ],
   "source": [
    "import serial\n",
    "import time\n",
    "import matplotlib.pyplot as plt\n",
    "import numpy as np\n",
    "\n",
    "ser = serial.Serial('/dev/cu.usbmodem11301', 115200)\n",
    "time.sleep(2) \n",
    "\n",
    "ser.write(b'START\\n')\n",
    "matrix = []\n",
    "\n",
    "while len(matrix) < 36:\n",
    "    line = ser.readline().decode().strip()\n",
    "    # print(f\"rec: {line}\")\n",
    "    try:\n",
    "        values = list(map(int, line.split()))\n",
    "        matrix.extend(values)\n",
    "        # print(matrix)\n",
    "    except ValueError:\n",
    "        print(f\"cant parse '{line}'\")\n",
    "ser.close()\n",
    "matrix = np.array(matrix).reshape((6, 6))\n",
    "\n",
    "plt.figure(figsize=(6, 6))\n",
    "plt.imshow(matrix, cmap='hot', interpolation='nearest')\n",
    "plt.colorbar(label='Sensor Value')\n",
    "plt.title(\"Photodiode Array Heatmap\")\n",
    "plt.xlabel(\"Column\")\n",
    "plt.ylabel(\"Row\")\n",
    "plt.tight_layout()\n",
    "plt.show()\n",
    "\n",
    "normalized_matrix = (matrix - np.min(matrix)) / (np.max(matrix) - np.min(matrix))\n",
    "flat_list = normalized_matrix.flatten().tolist()\n",
    "\n",
    "# print(flat_list)\n",
    "\n",
    "\n",
    "agh = np.array(flat_list)\n",
    "predict(agh)\n",
    "            "
   ]
  },
  {
   "cell_type": "code",
   "execution_count": null,
   "metadata": {},
   "outputs": [],
   "source": [
    "agh = np.array(flat_list)\n",
    "predict(agh)"
   ]
  },
  {
   "cell_type": "code",
   "execution_count": 26,
   "metadata": {},
   "outputs": [],
   "source": [
    "training = False\n",
    "label = 2\n",
    "if training:\n",
    "    with open('handgesture.txt', 'a') as f:\n",
    "        f.write(', '.join(map(str, flat_list)))\n",
    "        f.write(f', {label}\\n') \n",
    "\n",
    "            "
   ]
  }
 ],
 "metadata": {
  "kernelspec": {
   "display_name": "venv",
   "language": "python",
   "name": "python3"
  },
  "language_info": {
   "codemirror_mode": {
    "name": "ipython",
    "version": 3
   },
   "file_extension": ".py",
   "mimetype": "text/x-python",
   "name": "python",
   "nbconvert_exporter": "python",
   "pygments_lexer": "ipython3",
   "version": "3.13.2"
  }
 },
 "nbformat": 4,
 "nbformat_minor": 2
}
